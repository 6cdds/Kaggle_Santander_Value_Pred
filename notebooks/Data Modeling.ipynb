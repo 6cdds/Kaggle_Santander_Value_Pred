{
 "cells": [
  {
   "cell_type": "code",
   "execution_count": 20,
   "metadata": {},
   "outputs": [
    {
     "data": {
      "text/html": [
       "<script>requirejs.config({paths: { 'plotly': ['https://cdn.plot.ly/plotly-latest.min']},});if(!window.Plotly) {{require(['plotly'],function(plotly) {window.Plotly=plotly;});}}</script>"
      ],
      "text/vnd.plotly.v1+html": [
       "<script>requirejs.config({paths: { 'plotly': ['https://cdn.plot.ly/plotly-latest.min']},});if(!window.Plotly) {{require(['plotly'],function(plotly) {window.Plotly=plotly;});}}</script>"
      ]
     },
     "metadata": {},
     "output_type": "display_data"
    }
   ],
   "source": [
    "# Import modules\n",
    "\n",
    "import pandas as pd\n",
    "import numpy as np\n",
    "import os\n",
    "import sys\n",
    "import random\n",
    "import copy\n",
    "import pickle\n",
    "import time\n",
    "\n",
    "import plotly.graph_objs as go\n",
    "from plotly.offline import download_plotlyjs, init_notebook_mode, plot, iplot\n",
    "import colorlover as cl\n",
    "\n",
    "src_dir = os.path.join(os.getcwd(), os.pardir, 'src')\n",
    "sys.path.append(src_dir)\n",
    "\n",
    "from sklearn.model_selection import ShuffleSplit\n",
    "from scipy.stats import spearmanr\n",
    "from scipy import stats\n",
    "from sklearn import decomposition\n",
    "from sklearn.preprocessing import StandardScaler\n",
    "from sklearn.ensemble import RandomForestRegressor\n",
    "\n",
    "import plotting_methods as pm\n",
    "\n",
    "init_notebook_mode(connected=True)\n",
    "\n",
    "%reload_ext autoreload\n",
    "%autoreload 2\n",
    "\n",
    "pd.options.display.float_format = '{:,.4f}'.format"
   ]
  },
  {
   "cell_type": "code",
   "execution_count": 6,
   "metadata": {},
   "outputs": [],
   "source": [
    "raw_data_dir = os.path.join(os.getcwd(), os.pardir, 'data')\n",
    "\n",
    "f = open(os.path.join(raw_data_dir, 'train.csv'), 'r')\n",
    "raw_data = pd.read_csv(f)\n",
    "f.close()\n",
    "\n",
    "id_col = 'ID'\n",
    "tar_col = 'target'"
   ]
  },
  {
   "cell_type": "code",
   "execution_count": 7,
   "metadata": {},
   "outputs": [],
   "source": [
    "f = open(os.path.join(raw_data_dir, 'test.csv'), 'r')\n",
    "raw_test_data = pd.read_csv(f)\n",
    "f.close()\n",
    "\n",
    "id_col = 'ID'\n",
    "tar_col = 'target'"
   ]
  },
  {
   "cell_type": "code",
   "execution_count": 8,
   "metadata": {},
   "outputs": [],
   "source": [
    "# Clean data\n",
    "\n",
    "# Remove features with no variance\n",
    "clean_data = raw_data.drop(columns = raw_data.columns[np.where(raw_data.std() == 0.0)[0]])\n",
    "feat_names = [x for x in clean_data.columns if x not in [id_col, tar_col]]"
   ]
  },
  {
   "cell_type": "code",
   "execution_count": 9,
   "metadata": {},
   "outputs": [
    {
     "name": "stderr",
     "output_type": "stream",
     "text": [
      "/Users/colleensmith/anaconda2/lib/python2.7/site-packages/ipykernel_launcher.py:4: FutureWarning:\n",
      "\n",
      "\n",
      "Passing list-likes to .loc or [] with any missing label will raise\n",
      "KeyError in the future, you can use .reindex() as an alternative.\n",
      "\n",
      "See the documentation here:\n",
      "http://pandas.pydata.org/pandas-docs/stable/indexing.html#deprecate-loc-reindex-listlike\n",
      "\n",
      "/Users/colleensmith/anaconda2/lib/python2.7/site-packages/pandas/core/indexing.py:1367: FutureWarning:\n",
      "\n",
      "\n",
      "Passing list-likes to .loc or [] with any missing label will raise\n",
      "KeyError in the future, you can use .reindex() as an alternative.\n",
      "\n",
      "See the documentation here:\n",
      "http://pandas.pydata.org/pandas-docs/stable/indexing.html#deprecate-loc-reindex-listlike\n",
      "\n"
     ]
    }
   ],
   "source": [
    "# Transform data\n",
    "\n",
    "trans_data = (clean_data.loc[:, feat_names + [tar_col]] + 1).apply(np.log)\n",
    "trans_test_data = (raw_test_data.loc[:, feat_names + [tar_col]] + 1).apply(np.log)\n"
   ]
  },
  {
   "cell_type": "code",
   "execution_count": 10,
   "metadata": {},
   "outputs": [
    {
     "name": "stderr",
     "output_type": "stream",
     "text": [
      "/Users/colleensmith/anaconda2/lib/python2.7/site-packages/sklearn/model_selection/_split.py:1639: FutureWarning:\n",
      "\n",
      "From version 0.21, test_size will always complement train_size unless both are specified.\n",
      "\n"
     ]
    }
   ],
   "source": [
    "# Split data into training and validation\n",
    "\n",
    "train_prop = 0.8\n",
    "valid_prop = 0.2\n",
    "split_seed = 4\n",
    "\n",
    "ss = ShuffleSplit(n_splits=1, train_size=train_prop, random_state=split_seed)\n",
    "split_inds = [(train_index, valid_index) for train_index, valid_index in ss.split(trans_data)]\n",
    "\n",
    "train_inds = split_inds[0][0]\n",
    "valid_inds = split_inds[0][1]\n",
    "\n",
    "train_data = trans_data.loc[train_inds, :]\n",
    "valid_data = trans_data.loc[valid_inds,:]"
   ]
  },
  {
   "cell_type": "code",
   "execution_count": 11,
   "metadata": {},
   "outputs": [],
   "source": [
    "sparse_train_data = train_data.loc[:, feat_names].copy().to_sparse()\n",
    "sparse_valid_data = valid_data.loc[:, feat_names].copy().to_sparse()"
   ]
  },
  {
   "cell_type": "code",
   "execution_count": 32,
   "metadata": {},
   "outputs": [],
   "source": [
    "# Scale data\n",
    "\n",
    "sc = StandardScaler(with_mean = False)\n",
    "scale_train_data = pd.DataFrame(sc.fit_transform(sparse_train_data), columns = feat_names).to_sparse()\n",
    "scale_valid_data = pd.DataFrame(sc.transform(sparse_valid_data), columns = feat_names).to_sparse()\n"
   ]
  },
  {
   "cell_type": "code",
   "execution_count": 33,
   "metadata": {},
   "outputs": [
    {
     "name": "stdout",
     "output_type": "stream",
     "text": [
      "(446, 1513)\n"
     ]
    }
   ],
   "source": [
    "# Dimension Reduction\n",
    "\n",
    "pca = decomposition.PCA(svd_solver = 'randomized')\n",
    "res = pca.fit_transform(scale_train_data)\n",
    "\n",
    "ex_var = pca.explained_variance_ratio_.cumsum()\n",
    "num_comp_keep = np.where(np.array(ex_var <= 0.95))[0][-1]\n",
    "\n",
    "pca_train_data = pd.DataFrame(res).iloc[:, range(num_comp_keep)]\n",
    "\n",
    "valid_res = pca.transform(scale_valid_data)\n",
    "pca_valid_data = pd.DataFrame(valid_res).iloc[:, range(num_comp_keep)]\n",
    "print pca_valid_data.shape"
   ]
  },
  {
   "cell_type": "code",
   "execution_count": 14,
   "metadata": {},
   "outputs": [],
   "source": [
    "f = open('../data/train_data.p', 'w')\n",
    "pickle.dump(train_data, f)\n",
    "f.close()"
   ]
  },
  {
   "cell_type": "code",
   "execution_count": 15,
   "metadata": {},
   "outputs": [],
   "source": [
    "f = open('../data/proc_train_data.p', 'w')\n",
    "pickle.dump(pca_train_data.to_sparse(), f)\n",
    "f.close()"
   ]
  },
  {
   "cell_type": "code",
   "execution_count": 34,
   "metadata": {},
   "outputs": [],
   "source": [
    "f = open('../data/valid_data.p', 'w')\n",
    "pickle.dump(valid_data, f)\n",
    "f.close()"
   ]
  },
  {
   "cell_type": "code",
   "execution_count": 35,
   "metadata": {},
   "outputs": [],
   "source": [
    "f = open('../data/proc_valid_data.p', 'w')\n",
    "pickle.dump(pca_valid_data.to_sparse(), f)\n",
    "f.close()"
   ]
  },
  {
   "cell_type": "markdown",
   "metadata": {},
   "source": [
    "Random Forest Regressor Results"
   ]
  },
  {
   "cell_type": "code",
   "execution_count": 26,
   "metadata": {
    "collapsed": true
   },
   "outputs": [],
   "source": [
    "f.close()"
   ]
  },
  {
   "cell_type": "code",
   "execution_count": 2,
   "metadata": {},
   "outputs": [],
   "source": [
    "f = open('../data/grid_search_res2.p', 'r')\n",
    "rf_grids_res = pickle.load(f)\n",
    "f.close()"
   ]
  },
  {
   "cell_type": "code",
   "execution_count": 22,
   "metadata": {},
   "outputs": [
    {
     "data": {
      "text/plain": [
       "{'max_features': 'auto', 'min_samples_leaf': 5}"
      ]
     },
     "execution_count": 22,
     "metadata": {},
     "output_type": "execute_result"
    }
   ],
   "source": [
    "params = rf_grids_res.best_params_\n",
    "params"
   ]
  },
  {
   "cell_type": "code",
   "execution_count": 36,
   "metadata": {},
   "outputs": [],
   "source": [
    "f = open('../data/valid_res_rf.p', 'r')\n",
    "valid_res_rf = pickle.load(f)\n",
    "f.close()"
   ]
  },
  {
   "cell_type": "code",
   "execution_count": 40,
   "metadata": {},
   "outputs": [
    {
     "data": {
      "text/plain": [
       "1.6051672398048538"
      ]
     },
     "execution_count": 40,
     "metadata": {},
     "output_type": "execute_result"
    }
   ],
   "source": [
    "from sklearn.metrics import mean_squared_error, mean_squared_log_error\n",
    "\n",
    "np.sqrt(mean_squared_error(valid_data['target'], valid_res_rf['valid_res']))"
   ]
  },
  {
   "cell_type": "code",
   "execution_count": null,
   "metadata": {},
   "outputs": [],
   "source": []
  }
 ],
 "metadata": {
  "kernelspec": {
   "display_name": "Python 2",
   "language": "python",
   "name": "python2"
  },
  "language_info": {
   "codemirror_mode": {
    "name": "ipython",
    "version": 2
   },
   "file_extension": ".py",
   "mimetype": "text/x-python",
   "name": "python",
   "nbconvert_exporter": "python",
   "pygments_lexer": "ipython2",
   "version": "2.7.14"
  }
 },
 "nbformat": 4,
 "nbformat_minor": 2
}
