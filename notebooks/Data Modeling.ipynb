{
 "cells": [
  {
   "cell_type": "code",
   "execution_count": 1,
   "metadata": {},
   "outputs": [
    {
     "data": {
      "text/html": [
       "<script>requirejs.config({paths: { 'plotly': ['https://cdn.plot.ly/plotly-latest.min']},});if(!window.Plotly) {{require(['plotly'],function(plotly) {window.Plotly=plotly;});}}</script>"
      ],
      "text/vnd.plotly.v1+html": [
       "<script>requirejs.config({paths: { 'plotly': ['https://cdn.plot.ly/plotly-latest.min']},});if(!window.Plotly) {{require(['plotly'],function(plotly) {window.Plotly=plotly;});}}</script>"
      ]
     },
     "metadata": {},
     "output_type": "display_data"
    }
   ],
   "source": [
    "# Import modules\n",
    "\n",
    "import pandas as pd\n",
    "import numpy as np\n",
    "import os\n",
    "import sys\n",
    "import random\n",
    "import copy\n",
    "import pickle\n",
    "import time\n",
    "\n",
    "import plotly.graph_objs as go\n",
    "from plotly.offline import download_plotlyjs, init_notebook_mode, plot, iplot\n",
    "import colorlover as cl\n",
    "\n",
    "src_dir = os.path.join(os.getcwd(), os.pardir, 'src')\n",
    "sys.path.append(src_dir)\n",
    "\n",
    "from sklearn.model_selection import ShuffleSplit\n",
    "from scipy.stats import spearmanr\n",
    "from scipy import stats\n",
    "from sklearn import decomposition\n",
    "from sklearn.preprocessing import StandardScaler\n",
    "\n",
    "import plotting_methods as pm\n",
    "\n",
    "init_notebook_mode(connected=True)\n",
    "\n",
    "%reload_ext autoreload\n",
    "%autoreload 2\n",
    "\n",
    "pd.options.display.float_format = '{:,.4f}'.format"
   ]
  },
  {
   "cell_type": "code",
   "execution_count": 2,
   "metadata": {
    "collapsed": true
   },
   "outputs": [],
   "source": [
    "raw_data_dir = os.path.join(os.getcwd(), os.pardir, 'data')\n",
    "\n",
    "f = open(os.path.join(raw_data_dir, 'train.csv'), 'r')\n",
    "raw_data = pd.read_csv(f)\n",
    "f.close()\n",
    "\n",
    "id_col = 'ID'\n",
    "tar_col = 'target'"
   ]
  },
  {
   "cell_type": "code",
   "execution_count": 3,
   "metadata": {
    "collapsed": true
   },
   "outputs": [],
   "source": [
    "f = open(os.path.join(raw_data_dir, 'test.csv'), 'r')\n",
    "raw_test_data = pd.read_csv(f)\n",
    "f.close()\n",
    "\n",
    "id_col = 'ID'\n",
    "tar_col = 'target'"
   ]
  },
  {
   "cell_type": "code",
   "execution_count": 4,
   "metadata": {
    "collapsed": true
   },
   "outputs": [],
   "source": [
    "# Clean data\n",
    "\n",
    "# Remove features with no variance\n",
    "clean_data = raw_data.drop(columns = raw_data.columns[np.where(raw_data.std() == 0.0)[0]])\n",
    "feat_names = [x for x in clean_data.columns if x not in [id_col, tar_col]]"
   ]
  },
  {
   "cell_type": "code",
   "execution_count": 5,
   "metadata": {},
   "outputs": [
    {
     "name": "stderr",
     "output_type": "stream",
     "text": [
      "C:\\ProgramData\\Anaconda2\\lib\\site-packages\\pandas\\core\\indexing.py:1472: FutureWarning:\n",
      "\n",
      "\n",
      "Passing list-likes to .loc or [] with any missing label will raise\n",
      "KeyError in the future, you can use .reindex() as an alternative.\n",
      "\n",
      "See the documentation here:\n",
      "https://pandas.pydata.org/pandas-docs/stable/indexing.html#deprecate-loc-reindex-listlike\n",
      "\n"
     ]
    }
   ],
   "source": [
    "# Transform data\n",
    "\n",
    "trans_data = (clean_data.loc[:, feat_names + [tar_col]] + 1).apply(np.log)\n",
    "trans_test_data = (raw_test_data.loc[:, feat_names + [tar_col]] + 1).apply(np.log)\n"
   ]
  },
  {
   "cell_type": "code",
   "execution_count": 6,
   "metadata": {},
   "outputs": [
    {
     "name": "stderr",
     "output_type": "stream",
     "text": [
      "C:\\ProgramData\\Anaconda2\\lib\\site-packages\\sklearn\\model_selection\\_split.py:1639: FutureWarning:\n",
      "\n",
      "From version 0.21, test_size will always complement train_size unless both are specified.\n",
      "\n"
     ]
    }
   ],
   "source": [
    "# Split data into training and validation\n",
    "\n",
    "train_prop = 0.8\n",
    "valid_prop = 0.2\n",
    "split_seed = 4\n",
    "\n",
    "ss = ShuffleSplit(n_splits=1, train_size=train_prop, random_state=split_seed)\n",
    "split_inds = [(train_index, valid_index) for train_index, valid_index in ss.split(trans_data)]\n",
    "\n",
    "train_inds = split_inds[0][0]\n",
    "valid_inds = split_inds[0][1]\n",
    "\n",
    "train_data = trans_data.loc[train_inds, :]\n",
    "valid_data = trans_data.loc[valid_inds,:]"
   ]
  },
  {
   "cell_type": "code",
   "execution_count": 9,
   "metadata": {
    "collapsed": true
   },
   "outputs": [],
   "source": [
    "sparse_train_data = train_data.loc[:, feat_names].copy().to_sparse()\n",
    "sparse_valid_data = valid_data.loc[:, feat_names].copy().to_sparse()"
   ]
  },
  {
   "cell_type": "code",
   "execution_count": 13,
   "metadata": {},
   "outputs": [],
   "source": [
    "# Scale data\n",
    "\n",
    "sc = StandardScaler(with_mean = False)\n",
    "scale_train_data = pd.DataFrame(sc.fit_transform(sparse_train_data), columns = feat_names).to_sparse()\n",
    "scale_valid_data = pd.DataFrame(sc.transform(sparse_train_data), columns = feat_names).to_sparse()\n"
   ]
  },
  {
   "cell_type": "code",
   "execution_count": 14,
   "metadata": {},
   "outputs": [
    {
     "name": "stdout",
     "output_type": "stream",
     "text": [
      "(3567, 1513)\n"
     ]
    }
   ],
   "source": [
    "# Dimension Reduction\n",
    "\n",
    "pca = decomposition.PCA(svd_solver = 'randomized')\n",
    "res = pca.fit_transform(scale_train_data)\n",
    "\n",
    "ex_var = pca.explained_variance_ratio_.cumsum()\n",
    "num_comp_keep = np.where(np.array(ex_var <= 0.95))[0][-1]\n",
    "\n",
    "pca_train_data = pd.DataFrame(res).iloc[:, range(num_comp_keep)]\n",
    "\n",
    "valid_res = pca.transform(scale_valid_data)\n",
    "pca_valid_data = pd.DataFrame(valid_res).iloc[:, range(num_comp_keep)]\n",
    "print pca_valid_data.shape"
   ]
  },
  {
   "cell_type": "code",
   "execution_count": 20,
   "metadata": {
    "collapsed": true
   },
   "outputs": [],
   "source": [
    "f = open('../data/train_data.p', 'w')\n",
    "pickle.dump(train_data, f)\n",
    "f.close()"
   ]
  },
  {
   "cell_type": "code",
   "execution_count": 16,
   "metadata": {
    "collapsed": true
   },
   "outputs": [],
   "source": [
    "f = open('../data/proc_train_data.p', 'w')\n",
    "pickle.dump(pca_train_data.to_sparse(), f)\n",
    "f.close()"
   ]
  },
  {
   "cell_type": "markdown",
   "metadata": {},
   "source": [
    "Random Forest Regressor Results"
   ]
  },
  {
   "cell_type": "code",
   "execution_count": 26,
   "metadata": {
    "collapsed": true
   },
   "outputs": [],
   "source": [
    "f.close()"
   ]
  },
  {
   "cell_type": "code",
   "execution_count": 4,
   "metadata": {},
   "outputs": [],
   "source": [
    "f = open('../data/grid_search_res2.p', 'r')\n",
    "rf_grids_res = pickle.load(f)\n",
    "f.close()"
   ]
  },
  {
   "cell_type": "code",
   "execution_count": 7,
   "metadata": {},
   "outputs": [
    {
     "name": "stderr",
     "output_type": "stream",
     "text": [
      "C:\\ProgramData\\Anaconda2\\lib\\site-packages\\sklearn\\utils\\deprecation.py:122: FutureWarning:\n",
      "\n",
      "You are accessing a training score ('mean_train_score'), which will not be available by default any more in 0.21. If you need training scores, please set return_train_score=True\n",
      "\n",
      "C:\\ProgramData\\Anaconda2\\lib\\site-packages\\sklearn\\utils\\deprecation.py:122: FutureWarning:\n",
      "\n",
      "You are accessing a training score ('split0_train_score'), which will not be available by default any more in 0.21. If you need training scores, please set return_train_score=True\n",
      "\n",
      "C:\\ProgramData\\Anaconda2\\lib\\site-packages\\sklearn\\utils\\deprecation.py:122: FutureWarning:\n",
      "\n",
      "You are accessing a training score ('split1_train_score'), which will not be available by default any more in 0.21. If you need training scores, please set return_train_score=True\n",
      "\n",
      "C:\\ProgramData\\Anaconda2\\lib\\site-packages\\sklearn\\utils\\deprecation.py:122: FutureWarning:\n",
      "\n",
      "You are accessing a training score ('split2_train_score'), which will not be available by default any more in 0.21. If you need training scores, please set return_train_score=True\n",
      "\n",
      "C:\\ProgramData\\Anaconda2\\lib\\site-packages\\sklearn\\utils\\deprecation.py:122: FutureWarning:\n",
      "\n",
      "You are accessing a training score ('std_train_score'), which will not be available by default any more in 0.21. If you need training scores, please set return_train_score=True\n",
      "\n"
     ]
    },
    {
     "data": {
      "text/plain": [
       "{'mean_fit_time': array([ 999.03866657,  932.82300011,  607.35933344,  308.84100008,\n",
       "          56.9236668 ,   56.11433339,   40.43600011,   34.2249999 ]),\n",
       " 'mean_score_time': array([ 7.2626667 ,  7.92533334,  6.9509999 ,  2.53966657,  6.56799992,\n",
       "         5.88499999,  5.08100001,  3.45466669]),\n",
       " 'mean_test_score': array([ 0.13760091,  0.13561375,  0.10542763,  0.07895887,  0.07022559,\n",
       "         0.06792146,  0.04070787,  0.02704332]),\n",
       " 'mean_train_score': array([ 0.82494748,  0.71402358,  0.31977319,  0.19624365,  0.73871847,\n",
       "         0.56558665,  0.19975556,  0.10975648]),\n",
       " 'param_max_features': masked_array(data = ['auto' 'auto' 'auto' 'auto' 'sqrt' 'sqrt' 'sqrt' 'sqrt'],\n",
       "              mask = [False False False False False False False False],\n",
       "        fill_value = ?),\n",
       " 'param_min_samples_leaf': masked_array(data = [5 10 50 100 5 10 50 100],\n",
       "              mask = [False False False False False False False False],\n",
       "        fill_value = ?),\n",
       " 'params': [{'max_features': 'auto', 'min_samples_leaf': 5},\n",
       "  {'max_features': 'auto', 'min_samples_leaf': 10},\n",
       "  {'max_features': 'auto', 'min_samples_leaf': 50},\n",
       "  {'max_features': 'auto', 'min_samples_leaf': 100},\n",
       "  {'max_features': 'sqrt', 'min_samples_leaf': 5},\n",
       "  {'max_features': 'sqrt', 'min_samples_leaf': 10},\n",
       "  {'max_features': 'sqrt', 'min_samples_leaf': 50},\n",
       "  {'max_features': 'sqrt', 'min_samples_leaf': 100}],\n",
       " 'rank_test_score': array([1, 2, 3, 4, 5, 6, 7, 8]),\n",
       " 'split0_test_score': array([ 0.14911397,  0.14718628,  0.11694962,  0.08803632,  0.08030139,\n",
       "         0.0765294 ,  0.04862319,  0.03102031]),\n",
       " 'split0_train_score': array([ 0.82323559,  0.71173901,  0.3109713 ,  0.19073487,  0.73682591,\n",
       "         0.56109106,  0.19513355,  0.10533088]),\n",
       " 'split1_test_score': array([ 0.14192492,  0.13479233,  0.0960033 ,  0.06839871,  0.06805937,\n",
       "         0.06585704,  0.03793135,  0.02422947]),\n",
       " 'split1_train_score': array([ 0.82380349,  0.71204031,  0.31632108,  0.19152223,  0.73767208,\n",
       "         0.56416667,  0.19657982,  0.10763162]),\n",
       " 'split2_test_score': array([ 0.12176385,  0.12486264,  0.10332995,  0.08044159,  0.062316  ,\n",
       "         0.06137794,  0.03556906,  0.02588019]),\n",
       " 'split2_train_score': array([ 0.82780336,  0.71829143,  0.3320272 ,  0.20647384,  0.74165742,\n",
       "         0.57150223,  0.20755332,  0.11630694]),\n",
       " 'std_fit_time': array([ 14.69349445,  18.08556478,  68.76230553,  75.98027971,\n",
       "          0.41291669,   1.33896631,   0.65214319,   3.85091469]),\n",
       " 'std_score_time': array([ 0.16290357,  1.13154954,  2.88457374,  2.41689626,  0.55950393,\n",
       "         1.21565869,  0.34651702,  0.88415092]),\n",
       " 'std_test_score': array([ 0.0115767 ,  0.00913208,  0.00867899,  0.00808529,  0.00750058,\n",
       "         0.00635547,  0.00567946,  0.00289177]),\n",
       " 'std_train_score': array([ 0.00203268,  0.00302033,  0.0089359 ,  0.00724098,  0.00210666,\n",
       "         0.00436733,  0.00554537,  0.00472615])}"
      ]
     },
     "execution_count": 7,
     "metadata": {},
     "output_type": "execute_result"
    }
   ],
   "source": [
    "rf_grids_res.cv_results_"
   ]
  },
  {
   "cell_type": "code",
   "execution_count": null,
   "metadata": {
    "collapsed": true
   },
   "outputs": [],
   "source": []
  }
 ],
 "metadata": {
  "kernelspec": {
   "display_name": "Python 2",
   "language": "python",
   "name": "python2"
  },
  "language_info": {
   "codemirror_mode": {
    "name": "ipython",
    "version": 2
   },
   "file_extension": ".py",
   "mimetype": "text/x-python",
   "name": "python",
   "nbconvert_exporter": "python",
   "pygments_lexer": "ipython2",
   "version": "2.7.14"
  }
 },
 "nbformat": 4,
 "nbformat_minor": 2
}
