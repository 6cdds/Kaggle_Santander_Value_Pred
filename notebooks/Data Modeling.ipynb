{
 "cells": [
  {
   "cell_type": "code",
   "execution_count": 10,
   "metadata": {},
   "outputs": [
    {
     "data": {
      "text/html": [
       "<script>requirejs.config({paths: { 'plotly': ['https://cdn.plot.ly/plotly-latest.min']},});if(!window.Plotly) {{require(['plotly'],function(plotly) {window.Plotly=plotly;});}}</script>"
      ],
      "text/vnd.plotly.v1+html": [
       "<script>requirejs.config({paths: { 'plotly': ['https://cdn.plot.ly/plotly-latest.min']},});if(!window.Plotly) {{require(['plotly'],function(plotly) {window.Plotly=plotly;});}}</script>"
      ]
     },
     "metadata": {},
     "output_type": "display_data"
    }
   ],
   "source": [
    "# Import modules\n",
    "\n",
    "import pandas as pd\n",
    "import numpy as np\n",
    "import os\n",
    "import sys\n",
    "import random\n",
    "import copy\n",
    "import pickle\n",
    "import time\n",
    "\n",
    "import plotly.graph_objs as go\n",
    "from plotly.offline import download_plotlyjs, init_notebook_mode, plot, iplot\n",
    "import colorlover as cl\n",
    "\n",
    "src_dir = os.path.join(os.getcwd(), os.pardir, 'src')\n",
    "sys.path.append(src_dir)\n",
    "\n",
    "from sklearn.model_selection import ShuffleSplit\n",
    "from scipy.stats import spearmanr\n",
    "from scipy import stats\n",
    "from sklearn import decomposition\n",
    "\n",
    "import plotting_methods as pm\n",
    "\n",
    "init_notebook_mode(connected=True)\n",
    "\n",
    "%reload_ext autoreload\n",
    "%autoreload 2\n",
    "\n",
    "pd.options.display.float_format = '{:,.4f}'.format"
   ]
  },
  {
   "cell_type": "code",
   "execution_count": 2,
   "metadata": {},
   "outputs": [],
   "source": [
    "raw_data_dir = os.path.join(os.getcwd(), os.pardir, 'data')\n",
    "\n",
    "f = open(os.path.join(raw_data_dir, 'train.csv'), 'r')\n",
    "raw_data = pd.read_csv(f)\n",
    "f.close()\n",
    "\n",
    "id_col = 'ID'\n",
    "tar_col = 'target'"
   ]
  },
  {
   "cell_type": "code",
   "execution_count": 3,
   "metadata": {},
   "outputs": [],
   "source": [
    "f = open(os.path.join(raw_data_dir, 'test.csv'), 'r')\n",
    "raw_test_data = pd.read_csv(f)\n",
    "f.close()\n",
    "\n",
    "id_col = 'ID'\n",
    "tar_col = 'target'"
   ]
  },
  {
   "cell_type": "code",
   "execution_count": 4,
   "metadata": {},
   "outputs": [],
   "source": [
    "# Clean data\n",
    "\n",
    "# Remove features with no variance\n",
    "clean_data = raw_data.drop(columns = raw_data.columns[np.where(raw_data.std() == 0.0)[0]])\n",
    "feat_names = [x for x in clean_data.columns if x not in [id_col, tar_col]]"
   ]
  },
  {
   "cell_type": "code",
   "execution_count": 5,
   "metadata": {},
   "outputs": [
    {
     "name": "stderr",
     "output_type": "stream",
     "text": [
      "/Users/colleensmith/anaconda2/lib/python2.7/site-packages/ipykernel_launcher.py:4: FutureWarning:\n",
      "\n",
      "\n",
      "Passing list-likes to .loc or [] with any missing label will raise\n",
      "KeyError in the future, you can use .reindex() as an alternative.\n",
      "\n",
      "See the documentation here:\n",
      "http://pandas.pydata.org/pandas-docs/stable/indexing.html#deprecate-loc-reindex-listlike\n",
      "\n",
      "/Users/colleensmith/anaconda2/lib/python2.7/site-packages/pandas/core/indexing.py:1367: FutureWarning:\n",
      "\n",
      "\n",
      "Passing list-likes to .loc or [] with any missing label will raise\n",
      "KeyError in the future, you can use .reindex() as an alternative.\n",
      "\n",
      "See the documentation here:\n",
      "http://pandas.pydata.org/pandas-docs/stable/indexing.html#deprecate-loc-reindex-listlike\n",
      "\n"
     ]
    }
   ],
   "source": [
    "# Transform data\n",
    "\n",
    "trans_data = (clean_data.loc[:, feat_names + [tar_col]] + 1).apply(np.log)\n",
    "trans_test_data = (raw_test_data.loc[:, feat_names + [tar_col]] + 1).apply(np.log)\n"
   ]
  },
  {
   "cell_type": "code",
   "execution_count": 6,
   "metadata": {},
   "outputs": [
    {
     "name": "stderr",
     "output_type": "stream",
     "text": [
      "/Users/colleensmith/anaconda2/lib/python2.7/site-packages/sklearn/model_selection/_split.py:1639: FutureWarning:\n",
      "\n",
      "From version 0.21, test_size will always complement train_size unless both are specified.\n",
      "\n"
     ]
    }
   ],
   "source": [
    "# Split data into training and validation\n",
    "\n",
    "train_prop = 0.8\n",
    "valid_prop = 0.2\n",
    "split_seed = 4\n",
    "\n",
    "ss = ShuffleSplit(n_splits=1, train_size=train_prop, random_state=split_seed)\n",
    "split_inds = [(train_index, valid_index) for train_index, valid_index in ss.split(trans_data)]\n",
    "\n",
    "train_inds = split_inds[0][0]\n",
    "valid_inds = split_inds[0][1]\n",
    "\n",
    "train_data = trans_data.loc[train_inds, :]\n",
    "valid_data = trans_data.loc[valid_inds,:]"
   ]
  },
  {
   "cell_type": "code",
   "execution_count": 7,
   "metadata": {},
   "outputs": [
    {
     "name": "stdout",
     "output_type": "stream",
     "text": [
      "(446, 1121)\n"
     ]
    }
   ],
   "source": [
    "# Dimension Reduction\n",
    "\n",
    "sparse_train_data = train_data.loc[:, feat_names].copy().to_sparse()\n",
    "sparse_valid_data = valid_data.loc[:, feat_names].copy().to_sparse()\n",
    "\n",
    "pca = decomposition.PCA(svd_solver = 'randomized')\n",
    "res = pca.fit_transform(sparse_train_data)\n",
    "\n",
    "ex_var = pca.explained_variance_ratio_.cumsum()\n",
    "num_comp_keep = np.where(np.array(ex_var <= 0.95))[0][-1]\n",
    "\n",
    "pca_train_data = pd.DataFrame(res).iloc[:, range(num_comp_keep)]\n",
    "\n",
    "valid_res = pca.transform(sparse_valid_data)\n",
    "pca_valid_data = pd.DataFrame(valid_res).iloc[:, range(num_comp_keep)]\n",
    "print pca_valid_data.shape"
   ]
  },
  {
   "cell_type": "code",
   "execution_count": 8,
   "metadata": {},
   "outputs": [],
   "source": [
    "f = open('../data/train_data.p', 'w')\n",
    "pickle.dump(train_data, f)\n",
    "f.close()"
   ]
  },
  {
   "cell_type": "code",
   "execution_count": 9,
   "metadata": {},
   "outputs": [],
   "source": [
    "f = open('../data/proc_train_data.p', 'w')\n",
    "pickle.dump(pca_train_data.to_sparse(), f)\n",
    "f.close()"
   ]
  },
  {
   "cell_type": "code",
   "execution_count": 27,
   "metadata": {},
   "outputs": [
    {
     "name": "stdout",
     "output_type": "stream",
     "text": [
      "345.569790125\n",
      "0.0981910228729\n"
     ]
    },
    {
     "data": {
      "text/plain": [
       "'\\nrf = RandomForestRegressor()\\n#rf_random = RandomizedSearchCV(estimator = rf, param_distributions = random_grid, \\n#                               n_iter = 100, cv = 3, verbose=2, random_state=42, n_jobs = -1)\\ngrid_search = GridSearchCV(estimator = rf, param_grid = random_grid, \\n                          cv = 3, n_jobs = -1, verbose = 2)\\n\\ngrid_search.fit(pca_train_data, train_data[tar_col])\\n'"
      ]
     },
     "execution_count": 27,
     "metadata": {},
     "output_type": "execute_result"
    }
   ],
   "source": [
    "# Train model and perform gridsearch on hyperparameters\n",
    "\n",
    "from sklearn.model_selection import RandomizedSearchCV, GridSearchCV\n",
    "from sklearn.ensemble import RandomForestRegressor\n",
    "\n",
    "n_estimators = [int(x) for x in np.linspace(start = 200, stop = 2000, num = 10)]\n",
    "\n",
    "max_features = ['auto', 'sqrt']\n",
    "\n",
    "max_depth = [int(x) for x in np.linspace(10, 110, num = 11)]\n",
    "max_depth.append(None)\n",
    "\n",
    "min_samples_split = [2, 5, 10]\n",
    "\n",
    "min_samples_leaf = [1, 2, 4]\n",
    "\n",
    "bootstrap = [True, False]\n",
    "\n",
    "random_grid = {'n_estimators': n_estimators,\n",
    "               'max_features': max_features,\n",
    "               'min_samples_leaf': min_samples_leaf}\n",
    "\n",
    "rf = RandomForestRegressor(n_estimators = 200, max_features = 'auto', min_samples_leaf = 1)\n",
    "\n",
    "df_train = pca_train_data.iloc[range(pca_train_data.shape[0] * 2 / 3),:]\n",
    "y = train_data[tar_col].iloc[range(pca_train_data.shape[0] * 2 / 3)]\n",
    "\n",
    "df_test = pca_train_data.iloc[range((pca_train_data.shape[0] * 2 / 3),  pca_train_data.shape[0]),:]\n",
    "\n",
    "t0 = time.time()\n",
    "rf.fit(df_train, y)\n",
    "t1 = time.time()\n",
    "print t1 - t0\n",
    "\n",
    "t0 = time.time()\n",
    "pred = rf.predict(df_test)\n",
    "t1 = time.time()\n",
    "print t1 - t0\n",
    "\n",
    "'''\n",
    "rf = RandomForestRegressor()\n",
    "#rf_random = RandomizedSearchCV(estimator = rf, param_distributions = random_grid, \n",
    "#                               n_iter = 100, cv = 3, verbose=2, random_state=42, n_jobs = -1)\n",
    "grid_search = GridSearchCV(estimator = rf, param_grid = random_grid, \n",
    "                          cv = 3, n_jobs = -1, verbose = 2)\n",
    "\n",
    "grid_search.fit(pca_train_data, train_data[tar_col])\n",
    "'''"
   ]
  },
  {
   "cell_type": "code",
   "execution_count": 17,
   "metadata": {},
   "outputs": [
    {
     "data": {
      "text/plain": [
       "3567"
      ]
     },
     "execution_count": 17,
     "metadata": {},
     "output_type": "execute_result"
    }
   ],
   "source": [
    "pca_train_data.shape[0]"
   ]
  },
  {
   "cell_type": "code",
   "execution_count": 22,
   "metadata": {},
   "outputs": [],
   "source": [
    "n = np.random.random(pca_train_data.shape)"
   ]
  },
  {
   "cell_type": "code",
   "execution_count": 23,
   "metadata": {},
   "outputs": [
    {
     "data": {
      "text/plain": [
       "(3567, 1121)"
      ]
     },
     "execution_count": 23,
     "metadata": {},
     "output_type": "execute_result"
    }
   ],
   "source": [
    "n.shape"
   ]
  },
  {
   "cell_type": "code",
   "execution_count": null,
   "metadata": {},
   "outputs": [],
   "source": []
  }
 ],
 "metadata": {
  "kernelspec": {
   "display_name": "Python 2",
   "language": "python",
   "name": "python2"
  },
  "language_info": {
   "codemirror_mode": {
    "name": "ipython",
    "version": 2
   },
   "file_extension": ".py",
   "mimetype": "text/x-python",
   "name": "python",
   "nbconvert_exporter": "python",
   "pygments_lexer": "ipython2",
   "version": "2.7.14"
  }
 },
 "nbformat": 4,
 "nbformat_minor": 2
}
